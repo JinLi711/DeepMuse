{
 "cells": [
  {
   "cell_type": "code",
   "execution_count": 41,
   "metadata": {
    "ExecuteTime": {
     "end_time": "2019-05-28T00:51:21.100191Z",
     "start_time": "2019-05-28T00:51:21.096609Z"
    }
   },
   "outputs": [],
   "source": [
    "import pandas as pd\n",
    "# import string\n",
    "import re\n",
    "from collections import defaultdict"
   ]
  },
  {
   "cell_type": "code",
   "execution_count": 13,
   "metadata": {
    "ExecuteTime": {
     "end_time": "2019-05-28T00:32:05.612199Z",
     "start_time": "2019-05-28T00:32:05.542452Z"
    }
   },
   "outputs": [],
   "source": [
    "filepath = \"../data/NRC_emotion_lexicon_list.txt\"\n",
    "emolex_df = pd.read_csv(filepath,  names=[\"word\", \"emotion\", \"association\"], sep='\\t')"
   ]
  },
  {
   "cell_type": "code",
   "execution_count": 14,
   "metadata": {
    "ExecuteTime": {
     "end_time": "2019-05-28T00:32:06.036170Z",
     "start_time": "2019-05-28T00:32:06.024739Z"
    }
   },
   "outputs": [
    {
     "data": {
      "text/html": [
       "<div>\n",
       "<style scoped>\n",
       "    .dataframe tbody tr th:only-of-type {\n",
       "        vertical-align: middle;\n",
       "    }\n",
       "\n",
       "    .dataframe tbody tr th {\n",
       "        vertical-align: top;\n",
       "    }\n",
       "\n",
       "    .dataframe thead th {\n",
       "        text-align: right;\n",
       "    }\n",
       "</style>\n",
       "<table border=\"1\" class=\"dataframe\">\n",
       "  <thead>\n",
       "    <tr style=\"text-align: right;\">\n",
       "      <th></th>\n",
       "      <th>word</th>\n",
       "      <th>emotion</th>\n",
       "      <th>association</th>\n",
       "    </tr>\n",
       "  </thead>\n",
       "  <tbody>\n",
       "    <tr>\n",
       "      <th>0</th>\n",
       "      <td>aback</td>\n",
       "      <td>anger</td>\n",
       "      <td>0</td>\n",
       "    </tr>\n",
       "    <tr>\n",
       "      <th>1</th>\n",
       "      <td>aback</td>\n",
       "      <td>anticipation</td>\n",
       "      <td>0</td>\n",
       "    </tr>\n",
       "    <tr>\n",
       "      <th>2</th>\n",
       "      <td>aback</td>\n",
       "      <td>disgust</td>\n",
       "      <td>0</td>\n",
       "    </tr>\n",
       "    <tr>\n",
       "      <th>3</th>\n",
       "      <td>aback</td>\n",
       "      <td>fear</td>\n",
       "      <td>0</td>\n",
       "    </tr>\n",
       "    <tr>\n",
       "      <th>4</th>\n",
       "      <td>aback</td>\n",
       "      <td>joy</td>\n",
       "      <td>0</td>\n",
       "    </tr>\n",
       "    <tr>\n",
       "      <th>5</th>\n",
       "      <td>aback</td>\n",
       "      <td>negative</td>\n",
       "      <td>0</td>\n",
       "    </tr>\n",
       "    <tr>\n",
       "      <th>6</th>\n",
       "      <td>aback</td>\n",
       "      <td>positive</td>\n",
       "      <td>0</td>\n",
       "    </tr>\n",
       "    <tr>\n",
       "      <th>7</th>\n",
       "      <td>aback</td>\n",
       "      <td>sadness</td>\n",
       "      <td>0</td>\n",
       "    </tr>\n",
       "    <tr>\n",
       "      <th>8</th>\n",
       "      <td>aback</td>\n",
       "      <td>surprise</td>\n",
       "      <td>0</td>\n",
       "    </tr>\n",
       "    <tr>\n",
       "      <th>9</th>\n",
       "      <td>aback</td>\n",
       "      <td>trust</td>\n",
       "      <td>0</td>\n",
       "    </tr>\n",
       "    <tr>\n",
       "      <th>10</th>\n",
       "      <td>abacus</td>\n",
       "      <td>anger</td>\n",
       "      <td>0</td>\n",
       "    </tr>\n",
       "    <tr>\n",
       "      <th>11</th>\n",
       "      <td>abacus</td>\n",
       "      <td>anticipation</td>\n",
       "      <td>0</td>\n",
       "    </tr>\n",
       "    <tr>\n",
       "      <th>12</th>\n",
       "      <td>abacus</td>\n",
       "      <td>disgust</td>\n",
       "      <td>0</td>\n",
       "    </tr>\n",
       "    <tr>\n",
       "      <th>13</th>\n",
       "      <td>abacus</td>\n",
       "      <td>fear</td>\n",
       "      <td>0</td>\n",
       "    </tr>\n",
       "    <tr>\n",
       "      <th>14</th>\n",
       "      <td>abacus</td>\n",
       "      <td>joy</td>\n",
       "      <td>0</td>\n",
       "    </tr>\n",
       "  </tbody>\n",
       "</table>\n",
       "</div>"
      ],
      "text/plain": [
       "      word       emotion  association\n",
       "0    aback         anger            0\n",
       "1    aback  anticipation            0\n",
       "2    aback       disgust            0\n",
       "3    aback          fear            0\n",
       "4    aback           joy            0\n",
       "5    aback      negative            0\n",
       "6    aback      positive            0\n",
       "7    aback       sadness            0\n",
       "8    aback      surprise            0\n",
       "9    aback         trust            0\n",
       "10  abacus         anger            0\n",
       "11  abacus  anticipation            0\n",
       "12  abacus       disgust            0\n",
       "13  abacus          fear            0\n",
       "14  abacus           joy            0"
      ]
     },
     "execution_count": 14,
     "metadata": {},
     "output_type": "execute_result"
    }
   ],
   "source": [
    "emolex_df.head(15)"
   ]
  },
  {
   "cell_type": "code",
   "execution_count": 15,
   "metadata": {
    "ExecuteTime": {
     "end_time": "2019-05-28T00:32:06.310286Z",
     "start_time": "2019-05-28T00:32:06.300249Z"
    }
   },
   "outputs": [
    {
     "data": {
      "text/plain": [
       "array(['anger', 'anticipation', 'disgust', 'fear', 'joy', 'negative',\n",
       "       'positive', 'sadness', 'surprise', 'trust'], dtype=object)"
      ]
     },
     "execution_count": 15,
     "metadata": {},
     "output_type": "execute_result"
    }
   ],
   "source": [
    "emolex_df.emotion.unique()"
   ]
  },
  {
   "cell_type": "code",
   "execution_count": 16,
   "metadata": {
    "ExecuteTime": {
     "end_time": "2019-05-28T00:32:06.505976Z",
     "start_time": "2019-05-28T00:32:06.500987Z"
    }
   },
   "outputs": [
    {
     "data": {
      "text/plain": [
       "(141820, 3)"
      ]
     },
     "execution_count": 16,
     "metadata": {},
     "output_type": "execute_result"
    }
   ],
   "source": [
    "emolex_df.shape"
   ]
  },
  {
   "cell_type": "code",
   "execution_count": 17,
   "metadata": {
    "ExecuteTime": {
     "end_time": "2019-05-28T00:32:06.864170Z",
     "start_time": "2019-05-28T00:32:06.846979Z"
    }
   },
   "outputs": [
    {
     "data": {
      "text/plain": [
       "anger           14182\n",
       "fear            14182\n",
       "joy             14182\n",
       "anticipation    14182\n",
       "sadness         14182\n",
       "positive        14182\n",
       "disgust         14182\n",
       "trust           14182\n",
       "surprise        14182\n",
       "negative        14182\n",
       "Name: emotion, dtype: int64"
      ]
     },
     "execution_count": 17,
     "metadata": {},
     "output_type": "execute_result"
    }
   ],
   "source": [
    "emolex_df.emotion.value_counts()"
   ]
  },
  {
   "cell_type": "code",
   "execution_count": 18,
   "metadata": {
    "ExecuteTime": {
     "end_time": "2019-05-28T00:32:07.391500Z",
     "start_time": "2019-05-28T00:32:07.379536Z"
    }
   },
   "outputs": [
    {
     "data": {
      "text/plain": [
       "negative        3324\n",
       "positive        2312\n",
       "fear            1476\n",
       "anger           1247\n",
       "trust           1231\n",
       "sadness         1191\n",
       "disgust         1058\n",
       "anticipation     839\n",
       "joy              689\n",
       "surprise         534\n",
       "Name: emotion, dtype: int64"
      ]
     },
     "execution_count": 18,
     "metadata": {},
     "output_type": "execute_result"
    }
   ],
   "source": [
    "emolex_df[emolex_df.association == 1].emotion.value_counts()"
   ]
  },
  {
   "cell_type": "code",
   "execution_count": 19,
   "metadata": {
    "ExecuteTime": {
     "end_time": "2019-05-28T00:32:08.133356Z",
     "start_time": "2019-05-28T00:32:08.059827Z"
    }
   },
   "outputs": [],
   "source": [
    "emolex_words = emolex_df.pivot(index='word', columns='emotion', values='association').reset_index()\n"
   ]
  },
  {
   "cell_type": "code",
   "execution_count": 57,
   "metadata": {
    "ExecuteTime": {
     "end_time": "2019-05-28T00:59:22.474729Z",
     "start_time": "2019-05-28T00:59:22.458122Z"
    }
   },
   "outputs": [
    {
     "name": "stdout",
     "output_type": "stream",
     "text": [
      "<class 'pandas.core.frame.DataFrame'>\n",
      "RangeIndex: 14182 entries, 0 to 14181\n",
      "Data columns (total 11 columns):\n",
      "word            14181 non-null object\n",
      "anger           14182 non-null int64\n",
      "anticipation    14182 non-null int64\n",
      "disgust         14182 non-null int64\n",
      "fear            14182 non-null int64\n",
      "joy             14182 non-null int64\n",
      "negative        14182 non-null int64\n",
      "positive        14182 non-null int64\n",
      "sadness         14182 non-null int64\n",
      "surprise        14182 non-null int64\n",
      "trust           14182 non-null int64\n",
      "dtypes: int64(10), object(1)\n",
      "memory usage: 1.2+ MB\n"
     ]
    }
   ],
   "source": [
    "emolex_words.info()"
   ]
  },
  {
   "cell_type": "code",
   "execution_count": 35,
   "metadata": {
    "ExecuteTime": {
     "end_time": "2019-05-28T00:43:38.160379Z",
     "start_time": "2019-05-28T00:43:38.148654Z"
    }
   },
   "outputs": [
    {
     "data": {
      "text/html": [
       "<div>\n",
       "<style scoped>\n",
       "    .dataframe tbody tr th:only-of-type {\n",
       "        vertical-align: middle;\n",
       "    }\n",
       "\n",
       "    .dataframe tbody tr th {\n",
       "        vertical-align: top;\n",
       "    }\n",
       "\n",
       "    .dataframe thead th {\n",
       "        text-align: right;\n",
       "    }\n",
       "</style>\n",
       "<table border=\"1\" class=\"dataframe\">\n",
       "  <thead>\n",
       "    <tr style=\"text-align: right;\">\n",
       "      <th>emotion</th>\n",
       "      <th>word</th>\n",
       "      <th>anger</th>\n",
       "      <th>anticipation</th>\n",
       "      <th>disgust</th>\n",
       "      <th>fear</th>\n",
       "      <th>joy</th>\n",
       "      <th>negative</th>\n",
       "      <th>positive</th>\n",
       "      <th>sadness</th>\n",
       "      <th>surprise</th>\n",
       "      <th>trust</th>\n",
       "    </tr>\n",
       "  </thead>\n",
       "  <tbody>\n",
       "    <tr>\n",
       "      <th>0</th>\n",
       "      <td>NaN</td>\n",
       "      <td>0</td>\n",
       "      <td>0</td>\n",
       "      <td>0</td>\n",
       "      <td>0</td>\n",
       "      <td>0</td>\n",
       "      <td>0</td>\n",
       "      <td>0</td>\n",
       "      <td>0</td>\n",
       "      <td>0</td>\n",
       "      <td>0</td>\n",
       "    </tr>\n",
       "    <tr>\n",
       "      <th>1</th>\n",
       "      <td>aback</td>\n",
       "      <td>0</td>\n",
       "      <td>0</td>\n",
       "      <td>0</td>\n",
       "      <td>0</td>\n",
       "      <td>0</td>\n",
       "      <td>0</td>\n",
       "      <td>0</td>\n",
       "      <td>0</td>\n",
       "      <td>0</td>\n",
       "      <td>0</td>\n",
       "    </tr>\n",
       "    <tr>\n",
       "      <th>2</th>\n",
       "      <td>abacus</td>\n",
       "      <td>0</td>\n",
       "      <td>0</td>\n",
       "      <td>0</td>\n",
       "      <td>0</td>\n",
       "      <td>0</td>\n",
       "      <td>0</td>\n",
       "      <td>0</td>\n",
       "      <td>0</td>\n",
       "      <td>0</td>\n",
       "      <td>1</td>\n",
       "    </tr>\n",
       "    <tr>\n",
       "      <th>3</th>\n",
       "      <td>abandon</td>\n",
       "      <td>0</td>\n",
       "      <td>0</td>\n",
       "      <td>0</td>\n",
       "      <td>1</td>\n",
       "      <td>0</td>\n",
       "      <td>1</td>\n",
       "      <td>0</td>\n",
       "      <td>1</td>\n",
       "      <td>0</td>\n",
       "      <td>0</td>\n",
       "    </tr>\n",
       "    <tr>\n",
       "      <th>4</th>\n",
       "      <td>abandoned</td>\n",
       "      <td>1</td>\n",
       "      <td>0</td>\n",
       "      <td>0</td>\n",
       "      <td>1</td>\n",
       "      <td>0</td>\n",
       "      <td>1</td>\n",
       "      <td>0</td>\n",
       "      <td>1</td>\n",
       "      <td>0</td>\n",
       "      <td>0</td>\n",
       "    </tr>\n",
       "  </tbody>\n",
       "</table>\n",
       "</div>"
      ],
      "text/plain": [
       "emotion       word  anger  anticipation  disgust  fear  joy  negative  \\\n",
       "0              NaN      0             0        0     0    0         0   \n",
       "1            aback      0             0        0     0    0         0   \n",
       "2           abacus      0             0        0     0    0         0   \n",
       "3          abandon      0             0        0     1    0         1   \n",
       "4        abandoned      1             0        0     1    0         1   \n",
       "\n",
       "emotion  positive  sadness  surprise  trust  \n",
       "0               0        0         0      0  \n",
       "1               0        0         0      0  \n",
       "2               0        0         0      1  \n",
       "3               0        1         0      0  \n",
       "4               0        1         0      0  "
      ]
     },
     "execution_count": 35,
     "metadata": {},
     "output_type": "execute_result"
    }
   ],
   "source": [
    "emolex_words.head()"
   ]
  },
  {
   "cell_type": "code",
   "execution_count": 39,
   "metadata": {
    "ExecuteTime": {
     "end_time": "2019-05-28T00:49:16.753364Z",
     "start_time": "2019-05-28T00:49:16.748714Z"
    }
   },
   "outputs": [
    {
     "data": {
      "text/plain": [
       "{'anger',\n",
       " 'anticipation',\n",
       " 'disgust',\n",
       " 'fear',\n",
       " 'joy',\n",
       " 'negative',\n",
       " 'positive',\n",
       " 'sadness',\n",
       " 'surprise',\n",
       " 'trust'}"
      ]
     },
     "execution_count": 39,
     "metadata": {},
     "output_type": "execute_result"
    }
   ],
   "source": [
    "set(emolex_words.columns[1:])"
   ]
  },
  {
   "cell_type": "code",
   "execution_count": 73,
   "metadata": {
    "ExecuteTime": {
     "end_time": "2019-05-28T01:03:29.484148Z",
     "start_time": "2019-05-28T01:03:29.472802Z"
    }
   },
   "outputs": [
    {
     "ename": "IndexError",
     "evalue": "index 0 is out of bounds for axis 0 with size 0",
     "output_type": "error",
     "traceback": [
      "\u001b[0;31m---------------------------------------------------------------------------\u001b[0m",
      "\u001b[0;31mIndexError\u001b[0m                                Traceback (most recent call last)",
      "\u001b[0;32m<ipython-input-73-db73284dc108>\u001b[0m in \u001b[0;36m<module>\u001b[0;34m\u001b[0m\n\u001b[0;32m----> 1\u001b[0;31m \u001b[0memolex_words\u001b[0m\u001b[0;34m[\u001b[0m\u001b[0memolex_words\u001b[0m\u001b[0;34m[\u001b[0m\u001b[0;34m\"word\"\u001b[0m\u001b[0;34m]\u001b[0m \u001b[0;34m==\u001b[0m \u001b[0;34m\"angerzz\"\u001b[0m\u001b[0;34m]\u001b[0m\u001b[0;34m[\u001b[0m\u001b[0;34m\"anticipation\"\u001b[0m\u001b[0;34m]\u001b[0m\u001b[0;34m.\u001b[0m\u001b[0mvalues\u001b[0m\u001b[0;34m[\u001b[0m\u001b[0;36m0\u001b[0m\u001b[0;34m]\u001b[0m\u001b[0;34m\u001b[0m\u001b[0;34m\u001b[0m\u001b[0m\n\u001b[0m\u001b[1;32m      2\u001b[0m \u001b[0;31m# emolex_words.loc[]\u001b[0m\u001b[0;34m\u001b[0m\u001b[0;34m\u001b[0m\u001b[0;34m\u001b[0m\u001b[0m\n",
      "\u001b[0;31mIndexError\u001b[0m: index 0 is out of bounds for axis 0 with size 0"
     ]
    }
   ],
   "source": [
    "emolex_words[emolex_words[\"word\"] == \"angerzz\"][\"anticipation\"].values[0]\n",
    "# emolex_words.loc[]"
   ]
  },
  {
   "cell_type": "code",
   "execution_count": 21,
   "metadata": {
    "ExecuteTime": {
     "end_time": "2019-05-28T00:35:05.566607Z",
     "start_time": "2019-05-28T00:35:05.559353Z"
    }
   },
   "outputs": [],
   "source": [
    "sample_text = \"\"\"\n",
    "When your day is long\n",
    "And the night\n",
    "The night is yours alone\n",
    "When you're sure you've had enough\n",
    "Of this life\n",
    "Well hang on\n",
    "Don't let yourself go\n",
    "'Cause everybody cries\n",
    "And everybody hurts sometimes\n",
    "Sometimes everything is wrong\n",
    "Now it's time to sing along\n",
    "When your day is night alone (hold on)\n",
    "(Hold on) if you feel like letting go (hold on)\n",
    "If you think you've had too much\n",
    "Of this life\n",
    "Well, hang on\n",
    "'Cause everybody hurts\n",
    "Take comfort in your friends\n",
    "Everybody hurts\n",
    "Don't throw your hand\n",
    "Oh, no\n",
    "Don't throw your hand\n",
    "If you feel like you're alone\n",
    "No, no, no, you're not alone\n",
    "\"\"\""
   ]
  },
  {
   "cell_type": "code",
   "execution_count": 23,
   "metadata": {
    "ExecuteTime": {
     "end_time": "2019-05-28T00:35:51.072857Z",
     "start_time": "2019-05-28T00:35:51.068350Z"
    }
   },
   "outputs": [
    {
     "data": {
      "text/plain": [
       "\"\\nwhen your day is long\\nand the night\\nthe night is yours alone\\nwhen you're sure you've had enough\\nof this life\\nwell hang on\\ndon't let yourself go\\n'cause everybody cries\\nand everybody hurts sometimes\\nsometimes everything is wrong\\nnow it's time to sing along\\nwhen your day is night alone (hold on)\\n(hold on) if you feel like letting go (hold on)\\nif you think you've had too much\\nof this life\\nwell, hang on\\n'cause everybody hurts\\ntake comfort in your friends\\neverybody hurts\\ndon't throw your hand\\noh, no\\ndon't throw your hand\\nif you feel like you're alone\\nno, no, no, you're not alone\\n\""
      ]
     },
     "execution_count": 23,
     "metadata": {},
     "output_type": "execute_result"
    }
   ],
   "source": [
    "sample_text.lower()"
   ]
  },
  {
   "cell_type": "code",
   "execution_count": 34,
   "metadata": {
    "ExecuteTime": {
     "end_time": "2019-05-28T00:43:09.049552Z",
     "start_time": "2019-05-28T00:43:09.043471Z"
    }
   },
   "outputs": [
    {
     "data": {
      "text/plain": [
       "['when',\n",
       " 'your',\n",
       " 'day',\n",
       " 'is',\n",
       " 'long',\n",
       " 'and',\n",
       " 'the',\n",
       " 'night',\n",
       " 'the',\n",
       " 'night',\n",
       " 'is',\n",
       " 'yours',\n",
       " 'alone',\n",
       " 'when',\n",
       " 'you',\n",
       " 're',\n",
       " 'sure',\n",
       " 'you',\n",
       " 've',\n",
       " 'had',\n",
       " 'enough',\n",
       " 'of',\n",
       " 'this',\n",
       " 'life',\n",
       " 'well',\n",
       " 'hang',\n",
       " 'on',\n",
       " 'don',\n",
       " 't',\n",
       " 'let',\n",
       " 'yourself',\n",
       " 'go',\n",
       " 'cause',\n",
       " 'everybody',\n",
       " 'cries',\n",
       " 'and',\n",
       " 'everybody',\n",
       " 'hurts',\n",
       " 'sometimes',\n",
       " 'sometimes',\n",
       " 'everything',\n",
       " 'is',\n",
       " 'wrong',\n",
       " 'now',\n",
       " 'it',\n",
       " 's',\n",
       " 'time',\n",
       " 'to',\n",
       " 'sing',\n",
       " 'along',\n",
       " 'when',\n",
       " 'your',\n",
       " 'day',\n",
       " 'is',\n",
       " 'night',\n",
       " 'alone',\n",
       " 'hold',\n",
       " 'on',\n",
       " 'hold',\n",
       " 'on',\n",
       " 'if',\n",
       " 'you',\n",
       " 'feel',\n",
       " 'like',\n",
       " 'letting',\n",
       " 'go',\n",
       " 'hold',\n",
       " 'on',\n",
       " 'if',\n",
       " 'you',\n",
       " 'think',\n",
       " 'you',\n",
       " 've',\n",
       " 'had',\n",
       " 'too',\n",
       " 'much',\n",
       " 'of',\n",
       " 'this',\n",
       " 'life',\n",
       " 'well',\n",
       " 'hang',\n",
       " 'on',\n",
       " 'cause',\n",
       " 'everybody',\n",
       " 'hurts',\n",
       " 'take',\n",
       " 'comfort',\n",
       " 'in',\n",
       " 'your',\n",
       " 'friends',\n",
       " 'everybody',\n",
       " 'hurts',\n",
       " 'don',\n",
       " 't',\n",
       " 'throw',\n",
       " 'your',\n",
       " 'hand',\n",
       " 'oh',\n",
       " 'no',\n",
       " 'don',\n",
       " 't',\n",
       " 'throw',\n",
       " 'your',\n",
       " 'hand',\n",
       " 'if',\n",
       " 'you',\n",
       " 'feel',\n",
       " 'like',\n",
       " 'you',\n",
       " 're',\n",
       " 'alone',\n",
       " 'no',\n",
       " 'no',\n",
       " 'no',\n",
       " 'you',\n",
       " 're',\n",
       " 'not',\n",
       " 'alone']"
      ]
     },
     "execution_count": 34,
     "metadata": {},
     "output_type": "execute_result"
    }
   ],
   "source": [
    "test = re.sub(r'[^\\w\\s]',' ',sample_text.lower()).split()\n",
    "test"
   ]
  },
  {
   "cell_type": "code",
   "execution_count": null,
   "metadata": {},
   "outputs": [],
   "source": []
  },
  {
   "cell_type": "code",
   "execution_count": 89,
   "metadata": {
    "ExecuteTime": {
     "end_time": "2019-05-28T01:09:53.082693Z",
     "start_time": "2019-05-28T01:09:53.073551Z"
    }
   },
   "outputs": [],
   "source": [
    "class EmotionalRating:\n",
    "\n",
    "    emotions = set(emolex_words.columns[1:])\n",
    "\n",
    "    def __init__(self, string):\n",
    "        self.raw_string = string\n",
    "        self.emotion_count = defaultdict(lambda: 0)\n",
    "\n",
    "\n",
    "#     @staticmethod\n",
    "#     def\n",
    "\n",
    "    def parse_string(self):\n",
    "        \"\"\"\n",
    "        Lowercase the string.\n",
    "        Remove punctuation.\n",
    "        Split the string into a list of words.\n",
    "        \n",
    "        :returns: a list of words\n",
    "        :rtype:   list\n",
    "        \"\"\"\n",
    "\n",
    "        string = self.raw_string\n",
    "        string = re.sub(r'[^\\w\\s]', ' ', string.lower())\n",
    "        string = string.split()\n",
    "        return string\n",
    "\n",
    "    def count_emotional_rating(self):\n",
    "        \"\"\"\n",
    "        Increment the counts of emotional word for each word in the \n",
    "        sentence.\n",
    "        \"\"\"\n",
    "\n",
    "        words = self.parse_string()\n",
    "        emotional_counts = self.emotion_count\n",
    "        \n",
    "        for word in words:\n",
    "            row = emolex_words[emolex_words[\"word\"] == word]\n",
    "            for emotion in self.emotions:\n",
    "                try:\n",
    "                    value = emolex_words[emolex_words[\"word\"] == word][emotion].values[0]\n",
    "                except IndexError:\n",
    "                    # word doesn't exist in the emotional chart\n",
    "                    value = 0\n",
    "                emotional_counts[emotion] = emotional_counts[emotion] + value\n",
    "                \n",
    "        self.emotion_count = emotional_counts\n",
    "        self.total_words = len(words)"
   ]
  },
  {
   "cell_type": "code",
   "execution_count": 90,
   "metadata": {
    "ExecuteTime": {
     "end_time": "2019-05-28T01:09:53.451622Z",
     "start_time": "2019-05-28T01:09:53.447507Z"
    }
   },
   "outputs": [],
   "source": [
    "# dict()\n",
    "class_sample = EmotionalRating(sample_text)"
   ]
  },
  {
   "cell_type": "code",
   "execution_count": 91,
   "metadata": {
    "ExecuteTime": {
     "end_time": "2019-05-28T01:09:55.487845Z",
     "start_time": "2019-05-28T01:09:53.840414Z"
    }
   },
   "outputs": [],
   "source": [
    "class_sample.count_emotional_rating()"
   ]
  },
  {
   "cell_type": "code",
   "execution_count": 92,
   "metadata": {
    "ExecuteTime": {
     "end_time": "2019-05-28T01:09:56.940936Z",
     "start_time": "2019-05-28T01:09:56.935296Z"
    }
   },
   "outputs": [
    {
     "data": {
      "text/plain": [
       "defaultdict(<function __main__.EmotionalRating.__init__.<locals>.<lambda>()>,\n",
       "            {'trust': 5,\n",
       "             'joy': 2,\n",
       "             'anticipation': 4,\n",
       "             'sadness': 1,\n",
       "             'anger': 0,\n",
       "             'positive': 5,\n",
       "             'negative': 1,\n",
       "             'surprise': 0,\n",
       "             'fear': 0,\n",
       "             'disgust': 0})"
      ]
     },
     "execution_count": 92,
     "metadata": {},
     "output_type": "execute_result"
    }
   ],
   "source": [
    "class_sample.emotion_count"
   ]
  },
  {
   "cell_type": "code",
   "execution_count": 93,
   "metadata": {
    "ExecuteTime": {
     "end_time": "2019-05-28T01:10:09.326472Z",
     "start_time": "2019-05-28T01:10:09.321834Z"
    }
   },
   "outputs": [
    {
     "data": {
      "text/plain": [
       "118"
      ]
     },
     "execution_count": 93,
     "metadata": {},
     "output_type": "execute_result"
    }
   ],
   "source": [
    "class_sample.total_words"
   ]
  },
  {
   "cell_type": "code",
   "execution_count": null,
   "metadata": {},
   "outputs": [],
   "source": []
  }
 ],
 "metadata": {
  "kernelspec": {
   "display_name": "Python 3",
   "language": "python",
   "name": "python3"
  },
  "language_info": {
   "codemirror_mode": {
    "name": "ipython",
    "version": 3
   },
   "file_extension": ".py",
   "mimetype": "text/x-python",
   "name": "python",
   "nbconvert_exporter": "python",
   "pygments_lexer": "ipython3",
   "version": "3.7.3"
  },
  "latex_envs": {
   "LaTeX_envs_menu_present": true,
   "autoclose": false,
   "autocomplete": true,
   "bibliofile": "biblio.bib",
   "cite_by": "apalike",
   "current_citInitial": 1,
   "eqLabelWithNumbers": true,
   "eqNumInitial": 1,
   "hotkeys": {
    "equation": "Ctrl-E",
    "itemize": "Ctrl-I"
   },
   "labels_anchors": false,
   "latex_user_defs": false,
   "report_style_numbering": false,
   "user_envs_cfg": false
  },
  "toc": {
   "base_numbering": 1,
   "nav_menu": {},
   "number_sections": true,
   "sideBar": true,
   "skip_h1_title": false,
   "title_cell": "Table of Contents",
   "title_sidebar": "Contents",
   "toc_cell": false,
   "toc_position": {},
   "toc_section_display": true,
   "toc_window_display": false
  },
  "varInspector": {
   "cols": {
    "lenName": 16,
    "lenType": 16,
    "lenVar": 40
   },
   "kernels_config": {
    "python": {
     "delete_cmd_postfix": "",
     "delete_cmd_prefix": "del ",
     "library": "var_list.py",
     "varRefreshCmd": "print(var_dic_list())"
    },
    "r": {
     "delete_cmd_postfix": ") ",
     "delete_cmd_prefix": "rm(",
     "library": "var_list.r",
     "varRefreshCmd": "cat(var_dic_list()) "
    }
   },
   "types_to_exclude": [
    "module",
    "function",
    "builtin_function_or_method",
    "instance",
    "_Feature"
   ],
   "window_display": false
  }
 },
 "nbformat": 4,
 "nbformat_minor": 2
}
