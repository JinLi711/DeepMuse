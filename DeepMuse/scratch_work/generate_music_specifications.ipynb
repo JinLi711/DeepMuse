{
 "cells": [
  {
   "cell_type": "code",
   "execution_count": 48,
   "metadata": {
    "ExecuteTime": {
     "end_time": "2019-06-02T04:31:45.108645Z",
     "start_time": "2019-06-02T04:31:44.925519Z"
    }
   },
   "outputs": [
    {
     "data": {
      "text/plain": [
       "<module 'generate_music_specifications' from '../preprocess/generate_music_specifications.py'>"
      ]
     },
     "execution_count": 48,
     "metadata": {},
     "output_type": "execute_result"
    }
   ],
   "source": [
    "import sys\n",
    "import matplotlib.pyplot as plt\n",
    "import pandas as pd\n",
    "import importlib\n",
    "from scipy.signal import argrelextrema\n",
    "%matplotlib inline\n",
    "\n",
    "sys.path.insert(0, \"../preprocess/\")\n",
    "import rate_text_by_emotion as rtbe\n",
    "importlib.reload(rtbe)\n",
    "\n",
    "import generate_music_specifications as gms\n",
    "importlib.reload(gms)"
   ]
  },
  {
   "cell_type": "code",
   "execution_count": 2,
   "metadata": {
    "ExecuteTime": {
     "end_time": "2019-06-02T04:20:18.619893Z",
     "start_time": "2019-06-02T04:20:18.617248Z"
    }
   },
   "outputs": [],
   "source": [
    "data_path = \"../data/literature/\"\n",
    "sample_file = \"sample_text.txt\"\n",
    "# sample_file = \"sample_text3.txt\""
   ]
  },
  {
   "cell_type": "code",
   "execution_count": 3,
   "metadata": {
    "ExecuteTime": {
     "end_time": "2019-06-02T04:21:12.548098Z",
     "start_time": "2019-06-02T04:20:18.622329Z"
    }
   },
   "outputs": [],
   "source": [
    "test_literature = rtbe.Literature(data_path + sample_file)"
   ]
  },
  {
   "cell_type": "code",
   "execution_count": 38,
   "metadata": {
    "ExecuteTime": {
     "end_time": "2019-06-02T04:27:56.409827Z",
     "start_time": "2019-06-02T04:27:56.361617Z"
    }
   },
   "outputs": [],
   "source": [
    "test_literature.split_into_sections(3)"
   ]
  },
  {
   "cell_type": "code",
   "execution_count": 39,
   "metadata": {
    "ExecuteTime": {
     "end_time": "2019-06-02T04:27:58.946514Z",
     "start_time": "2019-06-02T04:27:58.941636Z"
    }
   },
   "outputs": [
    {
     "data": {
      "text/plain": [
       "37"
      ]
     },
     "execution_count": 39,
     "metadata": {},
     "output_type": "execute_result"
    }
   ],
   "source": [
    "test_literature.sections[1].subsections[1].start"
   ]
  },
  {
   "cell_type": "code",
   "execution_count": 5,
   "metadata": {
    "ExecuteTime": {
     "end_time": "2019-06-02T04:21:12.602871Z",
     "start_time": "2019-06-02T04:21:12.598517Z"
    }
   },
   "outputs": [
    {
     "data": {
      "text/plain": [
       "{'fear': 3,\n",
       " 'negative': 5,\n",
       " 'joy': 5,\n",
       " 'positive': 13,\n",
       " 'trust': 7,\n",
       " 'anticipation': 9,\n",
       " 'disgust': 2,\n",
       " 'surprise': 5,\n",
       " 'anger': 3,\n",
       " 'sadness': 0,\n",
       " 'total words': 238}"
      ]
     },
     "execution_count": 5,
     "metadata": {},
     "output_type": "execute_result"
    }
   ],
   "source": [
    "test_literature.sections[0].emotion_counts"
   ]
  },
  {
   "cell_type": "code",
   "execution_count": 6,
   "metadata": {
    "ExecuteTime": {
     "end_time": "2019-06-02T04:21:12.610313Z",
     "start_time": "2019-06-02T04:21:12.605470Z"
    }
   },
   "outputs": [
    {
     "data": {
      "text/plain": [
       "{'fear': 0.012605042016806723,\n",
       " 'negative': 0.02100840336134454,\n",
       " 'joy': 0.02100840336134454,\n",
       " 'positive': 0.0546218487394958,\n",
       " 'trust': 0.029411764705882353,\n",
       " 'anticipation': 0.037815126050420166,\n",
       " 'disgust': 0.008403361344537815,\n",
       " 'surprise': 0.02100840336134454,\n",
       " 'anger': 0.012605042016806723,\n",
       " 'sadness': 0.0}"
      ]
     },
     "execution_count": 6,
     "metadata": {},
     "output_type": "execute_result"
    }
   ],
   "source": [
    "test_literature.sections[0].emotion_density"
   ]
  },
  {
   "cell_type": "code",
   "execution_count": 7,
   "metadata": {
    "ExecuteTime": {
     "end_time": "2019-06-02T04:21:12.630299Z",
     "start_time": "2019-06-02T04:21:12.612369Z"
    }
   },
   "outputs": [
    {
     "data": {
      "text/html": [
       "<div>\n",
       "<style scoped>\n",
       "    .dataframe tbody tr th:only-of-type {\n",
       "        vertical-align: middle;\n",
       "    }\n",
       "\n",
       "    .dataframe tbody tr th {\n",
       "        vertical-align: top;\n",
       "    }\n",
       "\n",
       "    .dataframe thead th {\n",
       "        text-align: right;\n",
       "    }\n",
       "</style>\n",
       "<table border=\"1\" class=\"dataframe\">\n",
       "  <thead>\n",
       "    <tr style=\"text-align: right;\">\n",
       "      <th></th>\n",
       "      <th>sentences</th>\n",
       "      <th>emotional rating class</th>\n",
       "      <th>emotional rating dict</th>\n",
       "      <th>word count</th>\n",
       "      <th>fear</th>\n",
       "      <th>negative</th>\n",
       "      <th>joy</th>\n",
       "      <th>positive</th>\n",
       "      <th>trust</th>\n",
       "      <th>anticipation</th>\n",
       "      <th>disgust</th>\n",
       "      <th>surprise</th>\n",
       "      <th>anger</th>\n",
       "      <th>sadness</th>\n",
       "      <th>pos - neg</th>\n",
       "      <th>pos - neg cumulative sum</th>\n",
       "    </tr>\n",
       "  </thead>\n",
       "  <tbody>\n",
       "    <tr>\n",
       "      <th>0</th>\n",
       "      <td>Chapter 1\\nIt is a truth universally acknowled...</td>\n",
       "      <td>&lt;rate_text_by_emotion.EmotionalRating object a...</td>\n",
       "      <td>{'fear': 1, 'negative': 1, 'joy': 2, 'positive...</td>\n",
       "      <td>25</td>\n",
       "      <td>1</td>\n",
       "      <td>1</td>\n",
       "      <td>2</td>\n",
       "      <td>3</td>\n",
       "      <td>3</td>\n",
       "      <td>2</td>\n",
       "      <td>1</td>\n",
       "      <td>2</td>\n",
       "      <td>1</td>\n",
       "      <td>0</td>\n",
       "      <td>2</td>\n",
       "      <td>2</td>\n",
       "    </tr>\n",
       "    <tr>\n",
       "      <th>1</th>\n",
       "      <td>However little known the feelings or views of ...</td>\n",
       "      <td>&lt;rate_text_by_emotion.EmotionalRating object a...</td>\n",
       "      <td>{'fear': 0, 'negative': 0, 'joy': 0, 'positive...</td>\n",
       "      <td>47</td>\n",
       "      <td>0</td>\n",
       "      <td>0</td>\n",
       "      <td>0</td>\n",
       "      <td>2</td>\n",
       "      <td>2</td>\n",
       "      <td>0</td>\n",
       "      <td>0</td>\n",
       "      <td>0</td>\n",
       "      <td>0</td>\n",
       "      <td>0</td>\n",
       "      <td>2</td>\n",
       "      <td>4</td>\n",
       "    </tr>\n",
       "    <tr>\n",
       "      <th>2</th>\n",
       "      <td>“My dear Mr. Bennet,” said his lady to him one...</td>\n",
       "      <td>&lt;rate_text_by_emotion.EmotionalRating object a...</td>\n",
       "      <td>{'fear': 0, 'negative': 0, 'joy': 0, 'positive...</td>\n",
       "      <td>21</td>\n",
       "      <td>0</td>\n",
       "      <td>0</td>\n",
       "      <td>0</td>\n",
       "      <td>1</td>\n",
       "      <td>0</td>\n",
       "      <td>0</td>\n",
       "      <td>0</td>\n",
       "      <td>0</td>\n",
       "      <td>0</td>\n",
       "      <td>0</td>\n",
       "      <td>1</td>\n",
       "      <td>5</td>\n",
       "    </tr>\n",
       "    <tr>\n",
       "      <th>3</th>\n",
       "      <td>Mr. Bennet replied that he had not.</td>\n",
       "      <td>&lt;rate_text_by_emotion.EmotionalRating object a...</td>\n",
       "      <td>{'fear': 0, 'negative': 0, 'joy': 0, 'positive...</td>\n",
       "      <td>7</td>\n",
       "      <td>0</td>\n",
       "      <td>0</td>\n",
       "      <td>0</td>\n",
       "      <td>0</td>\n",
       "      <td>0</td>\n",
       "      <td>0</td>\n",
       "      <td>0</td>\n",
       "      <td>0</td>\n",
       "      <td>0</td>\n",
       "      <td>0</td>\n",
       "      <td>0</td>\n",
       "      <td>5</td>\n",
       "    </tr>\n",
       "    <tr>\n",
       "      <th>4</th>\n",
       "      <td>“But it is,” returned she; “for Mrs. Long has ...</td>\n",
       "      <td>&lt;rate_text_by_emotion.EmotionalRating object a...</td>\n",
       "      <td>{'fear': 0, 'negative': 0, 'joy': 0, 'positive...</td>\n",
       "      <td>19</td>\n",
       "      <td>0</td>\n",
       "      <td>0</td>\n",
       "      <td>0</td>\n",
       "      <td>0</td>\n",
       "      <td>0</td>\n",
       "      <td>1</td>\n",
       "      <td>0</td>\n",
       "      <td>0</td>\n",
       "      <td>0</td>\n",
       "      <td>0</td>\n",
       "      <td>0</td>\n",
       "      <td>5</td>\n",
       "    </tr>\n",
       "  </tbody>\n",
       "</table>\n",
       "</div>"
      ],
      "text/plain": [
       "                                           sentences  \\\n",
       "0  Chapter 1\\nIt is a truth universally acknowled...   \n",
       "1  However little known the feelings or views of ...   \n",
       "2  “My dear Mr. Bennet,” said his lady to him one...   \n",
       "3                Mr. Bennet replied that he had not.   \n",
       "4  “But it is,” returned she; “for Mrs. Long has ...   \n",
       "\n",
       "                              emotional rating class  \\\n",
       "0  <rate_text_by_emotion.EmotionalRating object a...   \n",
       "1  <rate_text_by_emotion.EmotionalRating object a...   \n",
       "2  <rate_text_by_emotion.EmotionalRating object a...   \n",
       "3  <rate_text_by_emotion.EmotionalRating object a...   \n",
       "4  <rate_text_by_emotion.EmotionalRating object a...   \n",
       "\n",
       "                               emotional rating dict  word count  fear  \\\n",
       "0  {'fear': 1, 'negative': 1, 'joy': 2, 'positive...          25     1   \n",
       "1  {'fear': 0, 'negative': 0, 'joy': 0, 'positive...          47     0   \n",
       "2  {'fear': 0, 'negative': 0, 'joy': 0, 'positive...          21     0   \n",
       "3  {'fear': 0, 'negative': 0, 'joy': 0, 'positive...           7     0   \n",
       "4  {'fear': 0, 'negative': 0, 'joy': 0, 'positive...          19     0   \n",
       "\n",
       "   negative  joy  positive  trust  anticipation  disgust  surprise  anger  \\\n",
       "0         1    2         3      3             2        1         2      1   \n",
       "1         0    0         2      2             0        0         0      0   \n",
       "2         0    0         1      0             0        0         0      0   \n",
       "3         0    0         0      0             0        0         0      0   \n",
       "4         0    0         0      0             1        0         0      0   \n",
       "\n",
       "   sadness  pos - neg  pos - neg cumulative sum  \n",
       "0        0          2                         2  \n",
       "1        0          2                         4  \n",
       "2        0          1                         5  \n",
       "3        0          0                         5  \n",
       "4        0          0                         5  "
      ]
     },
     "execution_count": 7,
     "metadata": {},
     "output_type": "execute_result"
    }
   ],
   "source": [
    "test_literature.sentence_df.head()"
   ]
  },
  {
   "cell_type": "code",
   "execution_count": null,
   "metadata": {
    "ExecuteTime": {
     "end_time": "2019-06-02T04:16:18.175713Z",
     "start_time": "2019-06-02T04:16:18.159101Z"
    }
   },
   "outputs": [],
   "source": []
  },
  {
   "cell_type": "code",
   "execution_count": 8,
   "metadata": {
    "ExecuteTime": {
     "end_time": "2019-06-02T04:21:12.647343Z",
     "start_time": "2019-06-02T04:21:12.631652Z"
    }
   },
   "outputs": [
    {
     "name": "stdout",
     "output_type": "stream",
     "text": [
      "{'fear': 0.010752688172043012, 'negative': 0.010752688172043012, 'joy': 0.021505376344086023, 'positive': 0.06451612903225806, 'trust': 0.053763440860215055, 'anticipation': 0.021505376344086023, 'disgust': 0.010752688172043012, 'surprise': 0.021505376344086023, 'anger': 0.010752688172043012, 'sadness': 0.0}\n",
      "3\n"
     ]
    }
   ],
   "source": [
    "# test_literature.sections[0].create_subsection(test_literature.sentence_df, 4)\n",
    "# print(test_literature.sections[0].subsections[0].emotion_density)\n",
    "# print(test_literature.sections[0].subsections[0].end)"
   ]
  },
  {
   "cell_type": "code",
   "execution_count": 9,
   "metadata": {
    "ExecuteTime": {
     "end_time": "2019-06-02T04:21:12.832919Z",
     "start_time": "2019-06-02T04:21:12.648831Z"
    }
   },
   "outputs": [
    {
     "data": {
      "text/plain": [
       "<matplotlib.axes._subplots.AxesSubplot at 0x13835d668>"
      ]
     },
     "execution_count": 9,
     "metadata": {},
     "output_type": "execute_result"
    },
    {
     "data": {
      "image/png": "[encoded data removed]",
      "text/plain": [
       "<Figure size 432x288 with 1 Axes>"
      ]
     },
     "metadata": {
      "needs_background": "light"
     },
     "output_type": "display_data"
    }
   ],
   "source": [
    "cum_sum = test_literature.sentence_df[\"pos - neg cumulative sum\"] \n",
    "# smooth_cum_sum =  rtbe.smooth(cum_sum, window_len=25)\n",
    "cum_sum.plot(\"line\")"
   ]
  },
  {
   "cell_type": "code",
   "execution_count": 10,
   "metadata": {
    "ExecuteTime": {
     "end_time": "2019-06-02T04:21:13.044612Z",
     "start_time": "2019-06-02T04:21:12.834692Z"
    }
   },
   "outputs": [
    {
     "data": {
      "text/plain": [
       "<matplotlib.axes._subplots.AxesSubplot at 0x138bcd2e8>"
      ]
     },
     "execution_count": 10,
     "metadata": {},
     "output_type": "execute_result"
    },
    {
     "data": {
      "image/png": "[encoded data removed]",
      "text/plain": [
       "<Figure size 432x288 with 1 Axes>"
      ]
     },
     "metadata": {
      "needs_background": "light"
     },
     "output_type": "display_data"
    }
   ],
   "source": [
    "pd.Series(test_literature.smooth_cum_sum).plot(\"line\")"
   ]
  },
  {
   "cell_type": "code",
   "execution_count": 11,
   "metadata": {
    "ExecuteTime": {
     "end_time": "2019-06-02T04:21:13.049916Z",
     "start_time": "2019-06-02T04:21:13.046186Z"
    }
   },
   "outputs": [
    {
     "data": {
      "text/plain": [
       "[12, 89, 104, 268]"
      ]
     },
     "execution_count": 11,
     "metadata": {},
     "output_type": "execute_result"
    }
   ],
   "source": [
    "rtbe.find_min_max(test_literature.smooth_cum_sum)"
   ]
  },
  {
   "cell_type": "code",
   "execution_count": null,
   "metadata": {
    "ExecuteTime": {
     "end_time": "2019-06-01T20:31:19.669279Z",
     "start_time": "2019-06-01T20:31:19.664787Z"
    }
   },
   "outputs": [],
   "source": []
  },
  {
   "cell_type": "code",
   "execution_count": 12,
   "metadata": {
    "ExecuteTime": {
     "end_time": "2019-06-02T04:21:13.055744Z",
     "start_time": "2019-06-02T04:21:13.051414Z"
    }
   },
   "outputs": [
    {
     "data": {
      "text/plain": [
       "19756"
      ]
     },
     "execution_count": 12,
     "metadata": {},
     "output_type": "execute_result"
    }
   ],
   "source": [
    "test_literature.sentence_df[\"pos - neg cumulative sum\"].sum() "
   ]
  },
  {
   "cell_type": "code",
   "execution_count": 13,
   "metadata": {
    "ExecuteTime": {
     "end_time": "2019-06-02T04:21:13.060738Z",
     "start_time": "2019-06-02T04:21:13.057200Z"
    }
   },
   "outputs": [
    {
     "data": {
      "text/plain": [
       "{'anger',\n",
       " 'anticipation',\n",
       " 'disgust',\n",
       " 'fear',\n",
       " 'joy',\n",
       " 'negative',\n",
       " 'positive',\n",
       " 'sadness',\n",
       " 'surprise',\n",
       " 'trust'}"
      ]
     },
     "execution_count": 13,
     "metadata": {},
     "output_type": "execute_result"
    }
   ],
   "source": [
    "rtbe.emotions"
   ]
  },
  {
   "cell_type": "code",
   "execution_count": 14,
   "metadata": {
    "ExecuteTime": {
     "end_time": "2019-06-02T04:21:13.065907Z",
     "start_time": "2019-06-02T04:21:13.063553Z"
    }
   },
   "outputs": [],
   "source": [
    "# test_literature.aggregate_emotional_counts()"
   ]
  },
  {
   "cell_type": "code",
   "execution_count": 15,
   "metadata": {
    "ExecuteTime": {
     "end_time": "2019-06-02T04:21:13.072608Z",
     "start_time": "2019-06-02T04:21:13.069928Z"
    }
   },
   "outputs": [],
   "source": [
    "# literature_emotions = calc_multiple_emotional_counts(\"../data/literature/\")"
   ]
  },
  {
   "cell_type": "code",
   "execution_count": 16,
   "metadata": {
    "ExecuteTime": {
     "end_time": "2019-06-02T04:21:13.076743Z",
     "start_time": "2019-06-02T04:21:13.074375Z"
    }
   },
   "outputs": [],
   "source": [
    "# literature_densities = calc_emotion_densities(literature_emotions)"
   ]
  },
  {
   "cell_type": "code",
   "execution_count": 17,
   "metadata": {
    "ExecuteTime": {
     "end_time": "2019-06-02T04:21:13.081012Z",
     "start_time": "2019-06-02T04:21:13.078633Z"
    }
   },
   "outputs": [],
   "source": [
    "# calc_min_max_differences(literature_densities)"
   ]
  },
  {
   "cell_type": "code",
   "execution_count": 18,
   "metadata": {
    "ExecuteTime": {
     "end_time": "2019-06-02T04:21:13.085322Z",
     "start_time": "2019-06-02T04:21:13.083216Z"
    }
   },
   "outputs": [],
   "source": [
    "# calc_overall_emotional_density(literature_emotions[\"sample_text.txt\"])"
   ]
  },
  {
   "cell_type": "code",
   "execution_count": 19,
   "metadata": {
    "ExecuteTime": {
     "end_time": "2019-06-02T04:21:13.090598Z",
     "start_time": "2019-06-02T04:21:13.086900Z"
    }
   },
   "outputs": [
    {
     "data": {
      "text/plain": [
       "{'fear': 0.009916610322289835,\n",
       " 'negative': 0.023439260761775976,\n",
       " 'joy': 0.030876718503493352,\n",
       " 'positive': 0.06693711967545639,\n",
       " 'trust': 0.03673653369393735,\n",
       " 'anticipation': 0.02681992337164751,\n",
       " 'disgust': 0.0074374577417173765,\n",
       " 'surprise': 0.016227180527383367,\n",
       " 'anger': 0.008113590263691683,\n",
       " 'sadness': 0.008113590263691683}"
      ]
     },
     "execution_count": 19,
     "metadata": {},
     "output_type": "execute_result"
    }
   ],
   "source": [
    "test_literature.emotion_density"
   ]
  },
  {
   "cell_type": "code",
   "execution_count": 20,
   "metadata": {
    "ExecuteTime": {
     "end_time": "2019-06-02T04:21:13.095554Z",
     "start_time": "2019-06-02T04:21:13.092390Z"
    }
   },
   "outputs": [
    {
     "name": "stdout",
     "output_type": "stream",
     "text": [
      "c major\n"
     ]
    }
   ],
   "source": [
    "key = gms.calc_key(test_literature.emotion_density)\n",
    "print(key)"
   ]
  },
  {
   "cell_type": "code",
   "execution_count": 21,
   "metadata": {
    "ExecuteTime": {
     "end_time": "2019-06-02T04:21:13.102700Z",
     "start_time": "2019-06-02T04:21:13.097587Z"
    }
   },
   "outputs": [
    {
     "data": {
      "text/plain": [
       "{'max_JS': 0.008, 'min_JS': -0.008, 'max_AS': 0.017, 'min_AS': -0.002}"
      ]
     },
     "execution_count": 21,
     "metadata": {},
     "output_type": "execute_result"
    }
   ],
   "source": [
    "literature_minmax_stats = gms.calc_min_max_differences(\"XXXXX\")\n",
    "literature_minmax_stats"
   ]
  },
  {
   "cell_type": "code",
   "execution_count": 22,
   "metadata": {
    "ExecuteTime": {
     "end_time": "2019-06-02T04:21:13.106939Z",
     "start_time": "2019-06-02T04:21:13.104809Z"
    }
   },
   "outputs": [],
   "source": [
    "# need to edit sections class\n",
    "# also, refactor section and literature class because they share alot of the same code."
   ]
  },
  {
   "cell_type": "code",
   "execution_count": 23,
   "metadata": {
    "ExecuteTime": {
     "end_time": "2019-06-02T04:21:13.112843Z",
     "start_time": "2019-06-02T04:21:13.108930Z"
    }
   },
   "outputs": [
    {
     "data": {
      "text/plain": [
       "8"
      ]
     },
     "execution_count": 23,
     "metadata": {},
     "output_type": "execute_result"
    }
   ],
   "source": [
    "# octave is off because sample size is small and the minmax stats are not from \n",
    "# my own dataset\n",
    "overall_octave = gms.calc_overall_octave(\n",
    "    test_literature.emotion_density, \n",
    "    literature_minmax_stats[\"min_JS\"],\n",
    "    literature_minmax_stats[\"max_JS\"],\n",
    ")\n",
    "overall_octave"
   ]
  },
  {
   "cell_type": "code",
   "execution_count": 24,
   "metadata": {
    "ExecuteTime": {
     "end_time": "2019-06-02T04:21:13.118715Z",
     "start_time": "2019-06-02T04:21:13.114533Z"
    }
   },
   "outputs": [
    {
     "data": {
      "text/plain": [
       "{'trust': 9, 'joy': 9}"
      ]
     },
     "execution_count": 24,
     "metadata": {},
     "output_type": "execute_result"
    }
   ],
   "source": [
    "emotion_octave = gms.calc_emotion_octave(overall_octave, test_literature.emotion_density)\n",
    "emotion_octave"
   ]
  },
  {
   "cell_type": "code",
   "execution_count": 25,
   "metadata": {
    "ExecuteTime": {
     "end_time": "2019-06-02T04:21:13.125928Z",
     "start_time": "2019-06-02T04:21:13.121077Z"
    }
   },
   "outputs": [
    {
     "data": {
      "text/plain": [
       "139"
      ]
     },
     "execution_count": 25,
     "metadata": {},
     "output_type": "execute_result"
    }
   ],
   "source": [
    "tempo = gms.calc_tempo(\n",
    "    test_literature.emotion_density,\n",
    "    literature_minmax_stats[\"min_AS\"],\n",
    "    literature_minmax_stats[\"max_AS\"]\n",
    ")\n",
    "tempo"
   ]
  },
  {
   "cell_type": "code",
   "execution_count": 26,
   "metadata": {
    "ExecuteTime": {
     "end_time": "2019-06-02T04:21:13.131918Z",
     "start_time": "2019-06-02T04:21:13.127761Z"
    }
   },
   "outputs": [
    {
     "name": "stdout",
     "output_type": "stream",
     "text": [
      "0.00966183574879227\n",
      "0.042905405405405404\n"
     ]
    }
   ],
   "source": [
    "min_trust = test_literature.find_min_max_densities(\"trust\", False)\n",
    "max_trust = test_literature.find_min_max_densities(\"trust\")\n",
    "print(min_trust)\n",
    "print(max_trust)"
   ]
  },
  {
   "cell_type": "code",
   "execution_count": 36,
   "metadata": {
    "ExecuteTime": {
     "end_time": "2019-06-02T04:24:58.758454Z",
     "start_time": "2019-06-02T04:24:58.753351Z"
    }
   },
   "outputs": [
    {
     "data": {
      "text/plain": [
       "4"
      ]
     },
     "execution_count": 36,
     "metadata": {},
     "output_type": "execute_result"
    }
   ],
   "source": [
    "num_notes = gms.calc_num_of_notes(test_literature.sections[0].emotion_density[\"trust\"], min_trust, max_trust)\n",
    "num_notes"
   ]
  },
  {
   "cell_type": "code",
   "execution_count": 28,
   "metadata": {
    "ExecuteTime": {
     "end_time": "2019-06-02T04:21:13.143888Z",
     "start_time": "2019-06-02T04:21:13.139885Z"
    }
   },
   "outputs": [
    {
     "data": {
      "text/plain": [
       "3"
      ]
     },
     "execution_count": 28,
     "metadata": {},
     "output_type": "execute_result"
    }
   ],
   "source": [
    "int(3.33)"
   ]
  },
  {
   "cell_type": "code",
   "execution_count": 50,
   "metadata": {
    "ExecuteTime": {
     "end_time": "2019-06-02T04:32:02.078105Z",
     "start_time": "2019-06-02T04:32:02.074299Z"
    }
   },
   "outputs": [],
   "source": [
    "max_trust_sec1 = test_literature.sections[1].find_min_max_densities(\"trust\")\n",
    "min_trust_sec1 = test_literature.sections[1].find_min_max_densities(\"trust\", False)"
   ]
  },
  {
   "cell_type": "code",
   "execution_count": 52,
   "metadata": {
    "ExecuteTime": {
     "end_time": "2019-06-02T04:32:12.479445Z",
     "start_time": "2019-06-02T04:32:12.475114Z"
    }
   },
   "outputs": [
    {
     "data": {
      "text/plain": [
       "'E'"
      ]
     },
     "execution_count": 52,
     "metadata": {},
     "output_type": "execute_result"
    }
   ],
   "source": [
    "gms.calc_pitch(\n",
    "    test_literature.sections[1].subsections[1].emotion_density[\"trust\"],\n",
    "    min_trust_sec1,\n",
    "    max_trust_sec1,\n",
    "    key\n",
    ")"
   ]
  },
  {
   "cell_type": "code",
   "execution_count": null,
   "metadata": {},
   "outputs": [],
   "source": []
  }
 ],
 "metadata": {
  "kernelspec": {
   "display_name": "Python 3",
   "language": "python",
   "name": "python3"
  },
  "language_info": {
   "codemirror_mode": {
    "name": "ipython",
    "version": 3
   },
   "file_extension": ".py",
   "mimetype": "text/x-python",
   "name": "python",
   "nbconvert_exporter": "python",
   "pygments_lexer": "ipython3",
   "version": "3.7.3"
  },
  "latex_envs": {
   "LaTeX_envs_menu_present": true,
   "autoclose": false,
   "autocomplete": true,
   "bibliofile": "biblio.bib",
   "cite_by": "apalike",
   "current_citInitial": 1,
   "eqLabelWithNumbers": true,
   "eqNumInitial": 1,
   "hotkeys": {
    "equation": "Ctrl-E",
    "itemize": "Ctrl-I"
   },
   "labels_anchors": false,
   "latex_user_defs": false,
   "report_style_numbering": false,
   "user_envs_cfg": false
  },
  "toc": {
   "base_numbering": 1,
   "nav_menu": {},
   "number_sections": true,
   "sideBar": true,
   "skip_h1_title": false,
   "title_cell": "Table of Contents",
   "title_sidebar": "Contents",
   "toc_cell": false,
   "toc_position": {},
   "toc_section_display": true,
   "toc_window_display": false
  },
  "varInspector": {
   "cols": {
    "lenName": 16,
    "lenType": 16,
    "lenVar": 40
   },
   "kernels_config": {
    "python": {
     "delete_cmd_postfix": "",
     "delete_cmd_prefix": "del ",
     "library": "var_list.py",
     "varRefreshCmd": "print(var_dic_list())"
    },
    "r": {
     "delete_cmd_postfix": ") ",
     "delete_cmd_prefix": "rm(",
     "library": "var_list.r",
     "varRefreshCmd": "cat(var_dic_list()) "
    }
   },
   "types_to_exclude": [
    "module",
    "function",
    "builtin_function_or_method",
    "instance",
    "_Feature"
   ],
   "window_display": false
  }
 },
 "nbformat": 4,
 "nbformat_minor": 2
}
