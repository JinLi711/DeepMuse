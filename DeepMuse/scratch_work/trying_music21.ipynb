{
 "cells": [
  {
   "cell_type": "code",
   "execution_count": 26,
   "metadata": {
    "ExecuteTime": {
     "end_time": "2019-05-06T03:32:49.476699Z",
     "start_time": "2019-05-06T03:32:49.474066Z"
    }
   },
   "outputs": [],
   "source": [
    "import music21"
   ]
  },
  {
   "cell_type": "code",
   "execution_count": 2,
   "metadata": {
    "ExecuteTime": {
     "end_time": "2019-05-06T02:58:47.572750Z",
     "start_time": "2019-05-06T02:58:47.569808Z"
    }
   },
   "outputs": [],
   "source": [
    "path = \"data/\"\n",
    "test_file_name = \"flowers-of-the-forest-original.mid\""
   ]
  },
  {
   "cell_type": "code",
   "execution_count": 30,
   "metadata": {
    "ExecuteTime": {
     "end_time": "2019-05-06T04:15:10.655328Z",
     "start_time": "2019-05-06T04:15:10.648219Z"
    }
   },
   "outputs": [],
   "source": [
    "mf = midi.MidiFile()\n",
    "# test = mf.read(path + test_file_name)\n",
    "# with f as midi.MidiFile.open(path + test_file_name):\n",
    "#     test = f\n",
    "\n",
    "mf.open(path + test_file_name)\n",
    "mf.read()\n",
    "mf.close()\n",
    "# test = midi.MidiFile.open(filename=path + test_file_name)"
   ]
  },
  {
   "cell_type": "code",
   "execution_count": 32,
   "metadata": {
    "ExecuteTime": {
     "end_time": "2019-05-06T04:16:44.207782Z",
     "start_time": "2019-05-06T04:16:44.202920Z"
    }
   },
   "outputs": [
    {
     "data": {
      "text/plain": [
       "b'MThd\\x00\\x00\\x00\\x06\\x00\\x01\\x00\\x02\\x01\\x00'"
      ]
     },
     "execution_count": 32,
     "metadata": {},
     "output_type": "execute_result"
    }
   ],
   "source": [
    "mf.writeMThdStr()"
   ]
  },
  {
   "cell_type": "code",
   "execution_count": 29,
   "metadata": {
    "ExecuteTime": {
     "end_time": "2019-05-06T04:05:33.554832Z",
     "start_time": "2019-05-06T04:05:33.549886Z"
    }
   },
   "outputs": [
    {
     "data": {
      "text/plain": [
       "698.456462866008"
      ]
     },
     "execution_count": 29,
     "metadata": {},
     "output_type": "execute_result"
    }
   ],
   "source": [
    "f.pitch.frequency"
   ]
  },
  {
   "cell_type": "code",
   "execution_count": 38,
   "metadata": {
    "ExecuteTime": {
     "end_time": "2019-05-06T04:52:54.686351Z",
     "start_time": "2019-05-06T04:52:54.667523Z"
    }
   },
   "outputs": [
    {
     "data": {
      "text/plain": [
       "<MidiTrack 0 -- 16 events\n",
       "    <MidiEvent DeltaTime, t=0, track=0, channel=None>\n",
       "    <MidiEvent TIME_SIGNATURE, t=None, track=0, channel=None, data=b'\\x04\\x02\\x18\\x08'>\n",
       "    <MidiEvent DeltaTime, t=0, track=0, channel=None>\n",
       "    <MidiEvent KEY_SIGNATURE, t=None, track=0, channel=None, data=b'\\x02\\x00'>\n",
       "    <MidiEvent DeltaTime, t=0, track=0, channel=None>\n",
       "    <MidiEvent SET_TEMPO, t=None, track=0, channel=None, data=b'\\x0fB@'>\n",
       "    <MidiEvent DeltaTime, t=0, track=0, channel=None>\n",
       "    <MidiEvent SEQUENCE_TRACK_NAME, t=None, track=0, channel=None, data=b'The Last Post'>\n",
       "    <MidiEvent DeltaTime, t=0, track=0, channel=None>\n",
       "    <MidiEvent TEXT_EVENT, t=None, track=0, channel=None, data=b'Traditional'>\n",
       "    <MidiEvent DeltaTime, t=4096, track=0, channel=None>\n",
       "    <MidiEvent SET_TEMPO, t=None, track=0, channel=None, data=b'\\x0fB@'>\n",
       "    <MidiEvent DeltaTime, t=0, track=0, channel=None>\n",
       "    <MidiEvent SET_TEMPO, t=None, track=0, channel=None, data=b'\\x0fB@'>\n",
       "    <MidiEvent DeltaTime, t=1, track=0, channel=None>\n",
       "    <MidiEvent END_OF_TRACK, t=None, track=0, channel=None, data=b''>\n",
       "  >"
      ]
     },
     "execution_count": 38,
     "metadata": {},
     "output_type": "execute_result"
    }
   ],
   "source": [
    "(mf.tracks)[0]"
   ]
  },
  {
   "cell_type": "code",
   "execution_count": null,
   "metadata": {},
   "outputs": [],
   "source": []
  }
 ],
 "metadata": {
  "kernelspec": {
   "display_name": "Python 3",
   "language": "python",
   "name": "python3"
  },
  "language_info": {
   "codemirror_mode": {
    "name": "ipython",
    "version": 3
   },
   "file_extension": ".py",
   "mimetype": "text/x-python",
   "name": "python",
   "nbconvert_exporter": "python",
   "pygments_lexer": "ipython3",
   "version": "3.7.3"
  },
  "latex_envs": {
   "LaTeX_envs_menu_present": true,
   "autoclose": false,
   "autocomplete": true,
   "bibliofile": "biblio.bib",
   "cite_by": "apalike",
   "current_citInitial": 1,
   "eqLabelWithNumbers": true,
   "eqNumInitial": 1,
   "hotkeys": {
    "equation": "Ctrl-E",
    "itemize": "Ctrl-I"
   },
   "labels_anchors": false,
   "latex_user_defs": false,
   "report_style_numbering": false,
   "user_envs_cfg": false
  },
  "toc": {
   "base_numbering": 1,
   "nav_menu": {},
   "number_sections": true,
   "sideBar": true,
   "skip_h1_title": false,
   "title_cell": "Table of Contents",
   "title_sidebar": "Contents",
   "toc_cell": false,
   "toc_position": {},
   "toc_section_display": true,
   "toc_window_display": false
  },
  "varInspector": {
   "cols": {
    "lenName": 16,
    "lenType": 16,
    "lenVar": 40
   },
   "kernels_config": {
    "python": {
     "delete_cmd_postfix": "",
     "delete_cmd_prefix": "del ",
     "library": "var_list.py",
     "varRefreshCmd": "print(var_dic_list())"
    },
    "r": {
     "delete_cmd_postfix": ") ",
     "delete_cmd_prefix": "rm(",
     "library": "var_list.r",
     "varRefreshCmd": "cat(var_dic_list()) "
    }
   },
   "types_to_exclude": [
    "module",
    "function",
    "builtin_function_or_method",
    "instance",
    "_Feature"
   ],
   "window_display": false
  }
 },
 "nbformat": 4,
 "nbformat_minor": 2
}
